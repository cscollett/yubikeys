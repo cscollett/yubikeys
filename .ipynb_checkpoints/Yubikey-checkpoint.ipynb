{
 "cells": [
  {
   "cell_type": "markdown",
   "metadata": {
    "slideshow": {
     "slide_type": "slide"
    }
   },
   "source": [
    "# Yubikey\n",
    "## adventures in early adoption"
   ]
  },
  {
   "cell_type": "markdown",
   "metadata": {
    "slideshow": {
     "slide_type": "subslide"
    }
   },
   "source": [
    "## What is a Yubikey?\n",
    "\n",
    "* Yubico Hardware Security Key \n",
    "* Form of 2nd factor authentication (U2F)"
   ]
  },
  {
   "cell_type": "markdown",
   "metadata": {
    "slideshow": {
     "slide_type": "slide"
    }
   },
   "source": [
    "![Yubikeys](assets/YubiKey-4-keychain.png \"Yubico Keychain\")"
   ]
  },
  {
   "cell_type": "markdown",
   "metadata": {
    "slideshow": {
     "slide_type": "slide"
    }
   },
   "source": [
    "## 1-Factor\n",
    "* Credit Card\n",
    "* Password\n",
    "* One Time Password (OTP) [SMS or Email]\n",
    "* IP Address\n",
    "* Private RSA Key"
   ]
  },
  {
   "cell_type": "markdown",
   "metadata": {
    "slideshow": {
     "slide_type": "slide"
    }
   },
   "source": [
    "## 2-Factor\n",
    "* Debit Card + Pin\n",
    "* Password + One Time Password (OTP) [SMS, Email, App]"
   ]
  },
  {
   "cell_type": "markdown",
   "metadata": {
    "slideshow": {
     "slide_type": "slide"
    }
   },
   "source": [
    "## Universal 2nd Factor (U2F) Hardware Key\n",
    "\n",
    "**\"Universal 2nd Factor (U2F) is an open authentication standard that strengthens and simplifies two-factor authentication (2FA) using specialized Universal Serial Bus (USB) or near-field communication (NFC)...\"** -Wikipedia"
   ]
  },
  {
   "cell_type": "markdown",
   "metadata": {
    "slideshow": {
     "slide_type": "slide"
    }
   },
   "source": [
    "## So why a U2F hardware key?\n",
    " 1. Easy to use\n",
    " 2. Hard to steal (without proximity)\n",
    "    \n",
    "[Stealing OTP](https://motherboard.vice.com/en_us/article/bje3kw/how-hackers-bypass-gmail-two-factor-authentication-2fa-yahoo)\n",
    "| [Phone Porting](https://www.nextadvisor.com/blog/phone-porting-how-hackers-can-hijack-your-mobile-phone-number/)"
   ]
  },
  {
   "cell_type": "markdown",
   "metadata": {
    "slideshow": {
     "slide_type": "slide"
    }
   },
   "source": [
    "## How do I use it? (Demo Time)\n",
    " 1. Add the key(s) as your account security.\n",
    " 2. Next login, touch the key when prompted at login."
   ]
  },
  {
   "cell_type": "markdown",
   "metadata": {
    "slideshow": {
     "slide_type": "slide"
    }
   },
   "source": [
    "## Should I get one?\n",
    " * You get tired of typing those 2nd factor codes.\n",
    " * You are worried about targeted attacks.*\n",
    "\n",
    "**2nd factor hijacking may be more commmon someday in the future.*"
   ]
  },
  {
   "cell_type": "markdown",
   "metadata": {
    "slideshow": {
     "slide_type": "slide"
    }
   },
   "source": [
    "## Considerations\n",
    " 1. Double-check accounts for hardware key support.\n",
    " 2. Double-check your account-supported protocols are supported by the keys.\n",
    " 3. If getting a backup key, get the same type.\n",
    "  4. Shop around. Google, and others are starting to make keys too.\n",
    "    \n",
    "[Read the setup documentation BEFORE buying](https://www.yubico.com/setup)"
   ]
  },
  {
   "cell_type": "markdown",
   "metadata": {
    "slideshow": {
     "slide_type": "slide"
    }
   },
   "source": [
    "## Gotchyas\n",
    " 1. Mobile is a problem, solutions vary.\n",
    " 2. Graceful fallback to other 2nd factor varies by login implementation. \n",
    " 4. If you want key-only 2nd factor, know some companies you MUST have SMS too.\n",
    " 4. Sneezing...."
   ]
  },
  {
   "cell_type": "markdown",
   "metadata": {
    "slideshow": {
     "slide_type": "slide"
    }
   },
   "source": [
    "![Sneezes](assets/sneeze.png \"Aahhh-choooo\")"
   ]
  },
  {
   "cell_type": "markdown",
   "metadata": {
    "slideshow": {
     "slide_type": "slide"
    }
   },
   "source": [
    "# Questions?"
   ]
  },
  {
   "cell_type": "code",
   "execution_count": null,
   "metadata": {},
   "outputs": [],
   "source": []
  }
 ],
 "metadata": {
  "celltoolbar": "Slideshow",
  "kernelspec": {
   "display_name": "Python 3",
   "language": "python",
   "name": "python3"
  },
  "language_info": {
   "codemirror_mode": {
    "name": "ipython",
    "version": 3
   },
   "file_extension": ".py",
   "mimetype": "text/x-python",
   "name": "python",
   "nbconvert_exporter": "python",
   "pygments_lexer": "ipython3",
   "version": "3.6.6"
  }
 },
 "nbformat": 4,
 "nbformat_minor": 2
}
